{
 "cells": [
  {
   "cell_type": "markdown",
   "id": "2bf1191b",
   "metadata": {},
   "source": [
    "<img src=\"http://developer.download.nvidia.com/notebooks/dlsw-notebooks/riva_asr_asr-python-advanced-wordboosting/nvidia_logo.png\" style=\"width: 90px; float: right;\">\n",
    "\n",
    "# How do I boost specific words at runtime with word boosting?\n",
    "\n",
    "In this tutorial, we will customize Riva ASR to improve recognition of specific words at runtime with word boosting. <br> "
   ]
  },
  {
   "cell_type": "markdown",
   "id": "bcfba84d",
   "metadata": {},
   "source": [
    "\n",
    "To understand the basics of Riva ASR APIs, refer to [Getting started with Riva ASR in Python](https://github.com/nvidia-riva/tutorials/tree/stable/asr-python-basics.ipynb). <br>\n",
    "\n",
    "For more information about Riva, refer to the [Riva developer documentation](https://developer.nvidia.com/riva)."
   ]
  },
  {
   "cell_type": "markdown",
   "id": "1e4ca084-a178-4c21-a281-66a5384342bc",
   "metadata": {
    "tags": []
   },
   "source": [
    "---\n",
    "## Prerequisites"
   ]
  },
  {
   "cell_type": "markdown",
   "id": "b573c96e-0e0f-446f-8a64-a03994086d67",
   "metadata": {},
   "source": [
    "This notebook assumes that you have a Riva ASR pipeline already deployed. \n"
   ]
  },
  {
   "cell_type": "code",
   "execution_count": null,
   "id": "c3d555c8-7a5b-4ae8-b5e9-5af156d64d45",
   "metadata": {},
   "outputs": [],
   "source": [
    "# Check if your Riva Speech Server is running\n",
    "!docker ps"
   ]
  },
  {
   "cell_type": "markdown",
   "id": "cca7a72c-3052-4e84-8d64-6fae31f198f6",
   "metadata": {},
   "source": [
    "You should see a container with the image `nvcr.io/nvidia/riva/riva-speech:*` running. If not, please execute/re-visit the previous notebook on deploying a speech recognition pipeline."
   ]
  },
  {
   "cell_type": "markdown",
   "id": "27f37136",
   "metadata": {},
   "source": [
    "---\n",
    "## Word boosting with Riva ASR APIs\n",
    "\n",
    "Word boosting is one of the customizations Riva offers. It allows you to bias the ASR engine to recognize particular words of interest at request time by giving them a higher score when decoding the output of the acoustic model.  \n",
    "\n",
    "Now, let's use word boosting with Riva APIs for some sample audio clips with the out-of-the-box (OOTB) English pipeline."
   ]
  },
  {
   "cell_type": "markdown",
   "id": "41f7589e",
   "metadata": {},
   "source": [
    "#### Import the Riva client libraries\n",
    "\n",
    "Import some of the required libraries, including the Riva client libraries."
   ]
  },
  {
   "cell_type": "code",
   "execution_count": null,
   "id": "73626be6",
   "metadata": {},
   "outputs": [],
   "source": [
    "import io\n",
    "import IPython.display as ipd\n",
    "import grpc\n",
    "\n",
    "import riva.client"
   ]
  },
  {
   "cell_type": "markdown",
   "id": "f0ab5f9f",
   "metadata": {},
   "source": [
    "#### Create a Riva client and connect to the Riva Speech API server\n",
    "\n",
    "The following URI assumes a local deployment of the Riva Speech API server is on the default port. In case the server deployment is on a different host or via a Helm chart on Kubernetes, use an appropriate URI."
   ]
  },
  {
   "cell_type": "code",
   "execution_count": null,
   "id": "244caad0",
   "metadata": {},
   "outputs": [],
   "source": [
    "auth = riva.client.Auth(uri='localhost:50051')\n",
    "\n",
    "riva_asr = riva.client.ASRService(auth)"
   ]
  },
  {
   "cell_type": "markdown",
   "id": "24cd7f2b",
   "metadata": {},
   "source": [
    "#### ASR inference without word boosting\n",
    "First, let's run ASR on our sample audio clip without word boosting."
   ]
  },
  {
   "cell_type": "code",
   "execution_count": null,
   "id": "02154940",
   "metadata": {
    "scrolled": true
   },
   "outputs": [],
   "source": [
    "# Load a sample audio file from local disk\n",
    "# This example uses a .wav file with LINEAR_PCM encoding.\n",
    "path = \"audio_samples/en-US_wordboosting_sample1.wav\"\n",
    "with io.open(path, 'rb') as fh:\n",
    "    content = fh.read()\n",
    "ipd.Audio(path)"
   ]
  },
  {
   "cell_type": "code",
   "execution_count": null,
   "id": "22312b2b",
   "metadata": {
    "scrolled": true
   },
   "outputs": [],
   "source": [
    "# Creating RecognitionConfig\n",
    "config = riva.client.RecognitionConfig(\n",
    "  language_code=\"en-US\",\n",
    "  max_alternatives=1,\n",
    "  enable_automatic_punctuation=True,\n",
    "  audio_channel_count = 1\n",
    ")\n",
    "\n",
    "# ASR Inference call with Recognize \n",
    "response = riva_asr.offline_recognize(content, config)\n",
    "asr_best_transcript = response.results[0].alternatives[0].transcript\n",
    "print(\"ASR Transcript without Word Boosting:\", asr_best_transcript)"
   ]
  },
  {
   "cell_type": "markdown",
   "id": "df24b66d",
   "metadata": {},
   "source": [
    "As you can see, ASR is having a hard time recognizing domain specific terms like `AntiBERTa` and `ABlooper`. <br>\n",
    "\n",
    "Let's use word boosting to improve ASR for these domain specific terms."
   ]
  },
  {
   "cell_type": "markdown",
   "id": "97e9ebb1",
   "metadata": {},
   "source": [
    "#### ASR inference with word boosting\n",
    "\n",
    "Take a look at how to add the boosted words to `RecognitionConfig` with `SpeechContext` below. For more information about `SpeechContext`, refer to the docs [here](https://docs.nvidia.com/deeplearning/riva/user-guide/docs/reference/protos/protos.html#_CPPv413SpeechContext). The simplest way to add word boosting is to use function [riva.client.add_word_boosting_to_config()](https://github.com/nvidia-riva/python-clients/blob/928c63273176a939500e01ce176c463f1606a1ff/riva_api/asr.py#L78)."
   ]
  },
  {
   "cell_type": "code",
   "execution_count": null,
   "id": "70607575",
   "metadata": {},
   "outputs": [],
   "source": [
    "# Adding word boosting to the config\n",
    "boosted_lm_words = [\"AntiBERTa\", \"ABlooper\"]\n",
    "boosted_lm_score = 20.0\n",
    "riva.client.add_word_boosting_to_config(config, boosted_lm_words, boosted_lm_score)\n",
    "\n",
    "# ASR Inference call with Recognize \n",
    "response = riva_asr.offline_recognize(content, config)\n",
    "asr_best_transcript = response.results[0].alternatives[0].transcript\n",
    "print(\"ASR Transcript with Word Boosting:\", asr_best_transcript)"
   ]
  },
  {
   "cell_type": "markdown",
   "id": "2164633c",
   "metadata": {},
   "source": [
    "As you can see, with word boosting, ASR is able to correctly transcribe the domain specific terms `AntiBERTa` and `ABlooper`!\n",
    "\n",
    "_Boost Score_: The recommended range for the boost score is 20 to 100. The higher the boost score, the more biased the ASR engine is towards this word.  \n",
    "Note that out-of-Vocabulary words can also be word boosted; in the exact same way as in-vocabulary words, as described above."
   ]
  },
  {
   "cell_type": "markdown",
   "id": "3693db3c",
   "metadata": {},
   "source": [
    "#### Boosting different words at different levels\n",
    "With Riva ASR, we can also have different boost values for different words. For example, here _AntiBERTa_ is boosted by 20 and _ABlooper_ is boosted by 40:"
   ]
  },
  {
   "cell_type": "code",
   "execution_count": null,
   "id": "16a5ee2d",
   "metadata": {},
   "outputs": [],
   "source": [
    "# Load a sample audio file from local disk\n",
    "# This example uses a .wav file with LINEAR_PCM encoding.\n",
    "path = \"audio_samples/en-US_wordboosting_sample1.wav\"\n",
    "with io.open(path, 'rb') as fh:\n",
    "    content = fh.read()\n",
    "ipd.Audio(path)"
   ]
  },
  {
   "cell_type": "code",
   "execution_count": null,
   "id": "b0a67320",
   "metadata": {},
   "outputs": [],
   "source": [
    "# Creating RecognitionConfig\n",
    "config = riva.client.RecognitionConfig(\n",
    "  language_code=\"en-US\",\n",
    "  max_alternatives=1,\n",
    "  enable_automatic_punctuation=True,\n",
    "  audio_channel_count = 1\n",
    ")\n",
    "riva.client.add_word_boosting_to_config(config, [\"AntiBERTa\"], 20.)\n",
    "riva.client.add_word_boosting_to_config(config, [\"ABlooper\"], 40.)\n",
    "\n",
    "# ASR Inference call with Recognize \n",
    "response = riva_asr.offline_recognize(content, config)\n",
    "asr_best_transcript = response.results[0].alternatives[0].transcript\n",
    "print(\"ASR Transcript with Word Boosting:\", asr_best_transcript)"
   ]
  },
  {
   "cell_type": "markdown",
   "id": "047a29cd",
   "metadata": {},
   "source": [
    "#### Negative word boosting for undesired words\n",
    "We can even use word boosting to discourage prediction of some words, by using negative boost scores.  \n",
    "\n",
    "Let's load a sample audio file and get the transcription results from it without any word boosting"
   ]
  },
  {
   "cell_type": "code",
   "execution_count": null,
   "id": "faf2c6af",
   "metadata": {},
   "outputs": [],
   "source": [
    "# Load a sample audio file from local disk\n",
    "# This example uses a .wav file with LINEAR_PCM encoding.\n",
    "path = \"audio_samples/en-US_wordboosting_sample2.wav\"\n",
    "with io.open(path, 'rb') as fh:\n",
    "    content = fh.read()\n",
    "ipd.Audio(path)"
   ]
  },
  {
   "cell_type": "code",
   "execution_count": null,
   "id": "8f60707f",
   "metadata": {},
   "outputs": [],
   "source": [
    "# Creating RecognitionConfig\n",
    "config = riva.client.RecognitionConfig(\n",
    "  language_code=\"en-US\",\n",
    "  max_alternatives=1,\n",
    "  enable_automatic_punctuation=True,\n",
    "  audio_channel_count = 1\n",
    ")\n",
    "\n",
    "# ASR Inference call with Recognize \n",
    "response = riva_asr.offline_recognize(content, config)\n",
    "asr_best_transcript = response.results[0].alternatives[0].transcript\n",
    "print(\"ASR Transcript without Word Boosting:\", asr_best_transcript)"
   ]
  },
  {
   "cell_type": "markdown",
   "id": "ba0e5ed0",
   "metadata": {},
   "source": [
    "Let's try to transcribe the same audio with negative word boosting for the word `little`."
   ]
  },
  {
   "cell_type": "code",
   "execution_count": null,
   "id": "b7894ae3",
   "metadata": {},
   "outputs": [],
   "source": [
    "# Creating RecognitionConfig\n",
    "config = riva.client.RecognitionConfig(\n",
    "  language_code=\"en-US\",\n",
    "  max_alternatives=1,\n",
    "  enable_automatic_punctuation=True,\n",
    "  audio_channel_count = 1\n",
    ")\n",
    "riva.client.add_word_boosting_to_config(config, [\"little\"], -100.)\n",
    "\n",
    "# ASR Inference call with Recognize \n",
    "response = riva_asr.offline_recognize(content, config)\n",
    "asr_best_transcript = response.results[0].alternatives[0].transcript\n",
    "print(\"ASR Transcript with Negative Word Boosting:\", asr_best_transcript)"
   ]
  },
  {
   "cell_type": "markdown",
   "id": "3dc30c40",
   "metadata": {},
   "source": [
    "As you can see, the word little was not predicted this time. We also note that in this case (but not necessarily always), there was no other word predicted in it’s place.\n",
    "\n",
    "Now let us see how we can combine negative and positive word boosting:\n",
    "Let us combine the negative word boosting from above example, with positive word boosting to predict the word middle instead of little. We perform positive word boosting, as we did in earlier examples, for word middle. Note that we are using the same config instance, that we created in the above example for negative word boosting for little. So it already has the SpeechContext instance for little. So, now, we just need to add a SpeechContext instance for positive word boosting for middle."
   ]
  },
  {
   "cell_type": "code",
   "execution_count": null,
   "id": "bc74e7b0",
   "metadata": {},
   "outputs": [],
   "source": [
    "# Adding word boosting in the config\n",
    "positive_boosted_lm_word = \"middle\"\n",
    "positive_boosted_lm_score = 20.0\n",
    "riva.client.add_word_boosting_to_config(config, [positive_boosted_lm_word], positive_boosted_lm_score)\n",
    "\n",
    "# ASR Inference call with Recognize \n",
    "response = riva_asr.offline_recognize(content, config)\n",
    "asr_best_transcript = response.results[0].alternatives[0].transcript\n",
    "print(\"ASR Transcript with Negative and Positive Word Boosting:\", asr_best_transcript)"
   ]
  },
  {
   "cell_type": "markdown",
   "id": "18074546",
   "metadata": {},
   "source": [
    "The results indicate that we were able to generate the transcript with `middle` instead of `little`, by combining negative and positive word boosting."
   ]
  },
  {
   "cell_type": "markdown",
   "id": "3995d8e1",
   "metadata": {},
   "source": [
    "**Few things to note:**\n",
    "\n",
    "- There is no limit to the number of words that can be boosted. You should see no impact on latency for all requests, even for ~100 boosted words, except for the first request, which is expected.\n",
    "- Boosting phrases or a combination of words is not yet fully supported (but do work). We will revisit finalizing this support in an upcoming release.\n",
    "- By default, no words are boosted on the server side. Only words passed by the client are boosted.\n",
    "\n",
    "Detailed information about word boosting can be found in the documentation [here](https://docs.nvidia.com/deeplearning/riva/user-guide/docs/asr/asr-customizing.html#word-boosting). "
   ]
  }
 ],
 "metadata": {
  "kernelspec": {
   "display_name": "Python 3.10.2 64-bit",
   "language": "python",
   "name": "python3"
  },
  "language_info": {
   "codemirror_mode": {
    "name": "ipython",
    "version": 3
   },
   "file_extension": ".py",
   "mimetype": "text/x-python",
   "name": "python",
   "nbconvert_exporter": "python",
   "pygments_lexer": "ipython3",
   "version": "3.10.2"
  },
  "vscode": {
   "interpreter": {
    "hash": "aee8b7b246df8f9039afb4144a1f6fd8d2ca17a180786b69acc140d282b71a49"
   }
  }
 },
 "nbformat": 4,
 "nbformat_minor": 5
}
